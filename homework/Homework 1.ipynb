{
 "cells": [
  {
   "cell_type": "markdown",
   "id": "08f681f9",
   "metadata": {},
   "source": [
    "# Homework 1\n",
    "\n",
    "## FINM 37500: Fixed Income Derivatives\n",
    "\n",
    "### Mark Hendricks\n",
    "\n",
    "#### Winter 2024"
   ]
  },
  {
   "cell_type": "markdown",
   "id": "cdd8e219",
   "metadata": {},
   "source": [
    "# Context\n",
    "\n",
    "For use in these problems, consider the data below, discussed in Veronesi's *Fixed Income Securities* Chapters 9, 10.\n",
    "* interest-rate tree\n",
    "* current term structure"
   ]
  },
  {
   "cell_type": "code",
   "execution_count": 54,
   "id": "7e086fbf",
   "metadata": {},
   "outputs": [],
   "source": [
    "import numpy as np\n",
    "import pandas as pd\n",
    "import sys\n",
    "\n",
    "sys.path.insert(0, '../cmds')\n",
    "from binomial import *"
   ]
  },
  {
   "cell_type": "code",
   "execution_count": 55,
   "id": "05cb28e7",
   "metadata": {},
   "outputs": [
    {
     "data": {
      "text/html": [
       "<style type=\"text/css\">\n",
       "</style>\n",
       "<table id=\"T_3ce89\">\n",
       "  <thead>\n",
       "    <tr>\n",
       "      <th class=\"index_name level0\" >time $t$</th>\n",
       "      <th id=\"T_3ce89_level0_col0\" class=\"col_heading level0 col0\" >0</th>\n",
       "      <th id=\"T_3ce89_level0_col1\" class=\"col_heading level0 col1\" >0.5</th>\n",
       "    </tr>\n",
       "    <tr>\n",
       "      <th class=\"index_name level0\" >node</th>\n",
       "      <th class=\"blank col0\" >&nbsp;</th>\n",
       "      <th class=\"blank col1\" >&nbsp;</th>\n",
       "    </tr>\n",
       "  </thead>\n",
       "  <tbody>\n",
       "    <tr>\n",
       "      <th id=\"T_3ce89_level0_row0\" class=\"row_heading level0 row0\" >0</th>\n",
       "      <td id=\"T_3ce89_row0_col0\" class=\"data row0 col0\" >1.74%</td>\n",
       "      <td id=\"T_3ce89_row0_col1\" class=\"data row0 col1\" >3.39%</td>\n",
       "    </tr>\n",
       "    <tr>\n",
       "      <th id=\"T_3ce89_level0_row1\" class=\"row_heading level0 row1\" >1</th>\n",
       "      <td id=\"T_3ce89_row1_col0\" class=\"data row1 col0\" ></td>\n",
       "      <td id=\"T_3ce89_row1_col1\" class=\"data row1 col1\" >0.95%</td>\n",
       "    </tr>\n",
       "  </tbody>\n",
       "</table>\n"
      ],
      "text/plain": [
       "<pandas.io.formats.style.Styler at 0x1bd31b56d90>"
      ]
     },
     "execution_count": 55,
     "metadata": {},
     "output_type": "execute_result"
    }
   ],
   "source": [
    "rate_tree = pd.DataFrame({'0':[.0174,np.nan],'0.5':[.0339,.0095]})\n",
    "rate_tree.columns.name = 'time $t$'\n",
    "rate_tree.index.name = 'node'\n",
    "rate_tree.style.format('{:.2%}',na_rep='')"
   ]
  },
  {
   "cell_type": "markdown",
   "id": "b848f535",
   "metadata": {},
   "source": [
    "The \"tree\" is displayed as a pandas dataframe, so it does not list \"up\" and \"down\" for the rows but rather an index of nodes. The meaning should be clear."
   ]
  },
  {
   "cell_type": "code",
   "execution_count": 56,
   "id": "b76c6fb9",
   "metadata": {},
   "outputs": [
    {
     "data": {
      "text/html": [
       "<style type=\"text/css\">\n",
       "</style>\n",
       "<table id=\"T_28c55\">\n",
       "  <thead>\n",
       "    <tr>\n",
       "      <th class=\"blank level0\" >&nbsp;</th>\n",
       "      <th id=\"T_28c55_level0_col0\" class=\"col_heading level0 col0\" >price</th>\n",
       "      <th id=\"T_28c55_level0_col1\" class=\"col_heading level0 col1\" >continuous ytm</th>\n",
       "    </tr>\n",
       "    <tr>\n",
       "      <th class=\"index_name level0\" >maturity</th>\n",
       "      <th class=\"blank col0\" >&nbsp;</th>\n",
       "      <th class=\"blank col1\" >&nbsp;</th>\n",
       "    </tr>\n",
       "  </thead>\n",
       "  <tbody>\n",
       "    <tr>\n",
       "      <th id=\"T_28c55_level0_row0\" class=\"row_heading level0 row0\" >0.5</th>\n",
       "      <td id=\"T_28c55_row0_col0\" class=\"data row0 col0\" >99.1338</td>\n",
       "      <td id=\"T_28c55_row0_col1\" class=\"data row0 col1\" >1.74%</td>\n",
       "    </tr>\n",
       "    <tr>\n",
       "      <th id=\"T_28c55_level0_row1\" class=\"row_heading level0 row1\" >1.0</th>\n",
       "      <td id=\"T_28c55_row1_col0\" class=\"data row1 col0\" >97.8925</td>\n",
       "      <td id=\"T_28c55_row1_col1\" class=\"data row1 col1\" >2.13%</td>\n",
       "    </tr>\n",
       "    <tr>\n",
       "      <th id=\"T_28c55_level0_row2\" class=\"row_heading level0 row2\" >1.5</th>\n",
       "      <td id=\"T_28c55_row2_col0\" class=\"data row2 col0\" >96.1462</td>\n",
       "      <td id=\"T_28c55_row2_col1\" class=\"data row2 col1\" >2.62%</td>\n",
       "    </tr>\n",
       "  </tbody>\n",
       "</table>\n"
      ],
      "text/plain": [
       "<pandas.io.formats.style.Styler at 0x1bd31b2ba50>"
      ]
     },
     "execution_count": 56,
     "metadata": {},
     "output_type": "execute_result"
    }
   ],
   "source": [
    "term_struct = pd.DataFrame({'maturity':[.5,1,1.5],'price':[99.1338,97.8925,96.1462]})\n",
    "term_struct['continuous ytm'] = -np.log(term_struct['price']/100) / term_struct['maturity']\n",
    "term_struct.set_index('maturity',inplace=True)\n",
    "term_struct.style.format({'price':'{:.4f}','continuous ytm':'{:.2%}'}).format_index('{:.1f}')"
   ]
  },
  {
   "cell_type": "markdown",
   "id": "9f832211",
   "metadata": {},
   "source": [
    "This is the current term-structure observed at $t=0$."
   ]
  },
  {
   "cell_type": "markdown",
   "id": "534cbb1e",
   "metadata": {},
   "source": [
    "# 1. Pricing a Swap\n",
    "\n",
    "### 1.1 \n",
    "Calculate the tree of bond prices for the 2-period, $T=1$, bond."
   ]
  },
  {
   "cell_type": "code",
   "execution_count": 57,
   "id": "c54febb3",
   "metadata": {},
   "outputs": [
    {
     "data": {
      "text/html": [
       "<div>\n",
       "<style scoped>\n",
       "    .dataframe tbody tr th:only-of-type {\n",
       "        vertical-align: middle;\n",
       "    }\n",
       "\n",
       "    .dataframe tbody tr th {\n",
       "        vertical-align: top;\n",
       "    }\n",
       "\n",
       "    .dataframe thead th {\n",
       "        text-align: right;\n",
       "    }\n",
       "</style>\n",
       "<table border=\"1\" class=\"dataframe\">\n",
       "  <thead>\n",
       "    <tr style=\"text-align: right;\">\n",
       "      <th>time $t$</th>\n",
       "      <th>0</th>\n",
       "      <th>0.5</th>\n",
       "    </tr>\n",
       "    <tr>\n",
       "      <th>node</th>\n",
       "      <th></th>\n",
       "      <th></th>\n",
       "    </tr>\n",
       "  </thead>\n",
       "  <tbody>\n",
       "    <tr>\n",
       "      <th>0</th>\n",
       "      <td>97.8925</td>\n",
       "      <td>98.319284</td>\n",
       "    </tr>\n",
       "    <tr>\n",
       "      <th>1</th>\n",
       "      <td>NaN</td>\n",
       "      <td>99.526126</td>\n",
       "    </tr>\n",
       "  </tbody>\n",
       "</table>\n",
       "</div>"
      ],
      "text/plain": [
       "time $t$        0        0.5\n",
       "node                        \n",
       "0         97.8925  98.319284\n",
       "1             NaN  99.526126"
      ]
     },
     "execution_count": 57,
     "metadata": {},
     "output_type": "execute_result"
    }
   ],
   "source": [
    "bond_tree = pd.DataFrame(index=rate_tree.index, columns=rate_tree.columns)\n",
    "bond_tree.iloc[0, 0] = term_struct.loc[1, 'price']\n",
    "bond_tree['0.5'] = np.exp(-rate_tree['0.5']*0.5)*100\n",
    "bond_tree"
   ]
  },
  {
   "cell_type": "markdown",
   "id": "d6d965dc",
   "metadata": {},
   "source": [
    "### 1.2 \n",
    "What is the risk-neutral probability of an upward movement of interest rates at $t=.5$?"
   ]
  },
  {
   "cell_type": "code",
   "execution_count": 58,
   "id": "15fa01c8",
   "metadata": {},
   "outputs": [
    {
     "data": {
      "text/plain": [
       "0.6448615964742744"
      ]
     },
     "execution_count": 58,
     "metadata": {},
     "output_type": "execute_result"
    }
   ],
   "source": [
    "A = np.exp(rate_tree.iloc[0,0]*0.5)\n",
    "Z = bond_tree.loc[0,'0']\n",
    "D = bond_tree.loc[1,'0.5']\n",
    "U = bond_tree.loc[0,'0.5']\n",
    "\n",
    "pstar = (A*Z-D)/(U-D)\n",
    "pstar"
   ]
  },
  {
   "cell_type": "markdown",
   "id": "67f7f7a9",
   "metadata": {},
   "source": [
    "## The option contract\n",
    "\n",
    "Consider a single-period swap that pays at time period 1 ($t=0.5$), the expiration payoff (and thus terminal value) is\n",
    "* Payoff = $\\frac{100}{2}(r_1 −c)$\n",
    "* with $c=2\\%$\n",
    "* payments are semiannual\n",
    "\n",
    "Take the viewpoint of a fixed-rate payer, floating rate receiver."
   ]
  },
  {
   "cell_type": "markdown",
   "id": "0bcebb02",
   "metadata": {},
   "source": [
    "### 1.3 \n",
    "What is the replicating trade using the two bonds (period 1 and period 2)?"
   ]
  },
  {
   "cell_type": "code",
   "execution_count": 59,
   "id": "f83b70a6",
   "metadata": {},
   "outputs": [
    {
     "data": {
      "text/html": [
       "<div>\n",
       "<style scoped>\n",
       "    .dataframe tbody tr th:only-of-type {\n",
       "        vertical-align: middle;\n",
       "    }\n",
       "\n",
       "    .dataframe tbody tr th {\n",
       "        vertical-align: top;\n",
       "    }\n",
       "\n",
       "    .dataframe thead th {\n",
       "        text-align: right;\n",
       "    }\n",
       "</style>\n",
       "<table border=\"1\" class=\"dataframe\">\n",
       "  <thead>\n",
       "    <tr style=\"text-align: right;\">\n",
       "      <th></th>\n",
       "      <th>positions</th>\n",
       "      <th>value</th>\n",
       "    </tr>\n",
       "  </thead>\n",
       "  <tbody>\n",
       "    <tr>\n",
       "      <th>cash</th>\n",
       "      <td>1.000862</td>\n",
       "      <td>99.13380</td>\n",
       "    </tr>\n",
       "    <tr>\n",
       "      <th>under</th>\n",
       "      <td>-1.010903</td>\n",
       "      <td>97.89250</td>\n",
       "    </tr>\n",
       "    <tr>\n",
       "      <th>derivative</th>\n",
       "      <td>NaN</td>\n",
       "      <td>0.25949</td>\n",
       "    </tr>\n",
       "  </tbody>\n",
       "</table>\n",
       "</div>"
      ],
      "text/plain": [
       "            positions     value\n",
       "cash         1.000862  99.13380\n",
       "under       -1.010903  97.89250\n",
       "derivative        NaN   0.25949"
      ]
     },
     "execution_count": 59,
     "metadata": {},
     "output_type": "execute_result"
    }
   ],
   "source": [
    "replicating_port(term_struct.loc[[.5,1],'price'].values, bond_tree, swap_tree, dt='0.5')"
   ]
  },
  {
   "cell_type": "markdown",
   "id": "4baa5d57",
   "metadata": {},
   "source": [
    "### 1.4 \n",
    "What is the price of the swap?"
   ]
  },
  {
   "cell_type": "code",
   "execution_count": 60,
   "id": "8415b57e",
   "metadata": {},
   "outputs": [
    {
     "data": {
      "text/html": [
       "<div>\n",
       "<style scoped>\n",
       "    .dataframe tbody tr th:only-of-type {\n",
       "        vertical-align: middle;\n",
       "    }\n",
       "\n",
       "    .dataframe tbody tr th {\n",
       "        vertical-align: top;\n",
       "    }\n",
       "\n",
       "    .dataframe thead th {\n",
       "        text-align: right;\n",
       "    }\n",
       "</style>\n",
       "<table border=\"1\" class=\"dataframe\">\n",
       "  <thead>\n",
       "    <tr style=\"text-align: right;\">\n",
       "      <th>time $t$</th>\n",
       "      <th>0</th>\n",
       "      <th>0.5</th>\n",
       "    </tr>\n",
       "    <tr>\n",
       "      <th>node</th>\n",
       "      <th></th>\n",
       "      <th></th>\n",
       "    </tr>\n",
       "  </thead>\n",
       "  <tbody>\n",
       "    <tr>\n",
       "      <th>0</th>\n",
       "      <td>0.259464</td>\n",
       "      <td>0.695</td>\n",
       "    </tr>\n",
       "    <tr>\n",
       "      <th>1</th>\n",
       "      <td>NaN</td>\n",
       "      <td>-0.525</td>\n",
       "    </tr>\n",
       "  </tbody>\n",
       "</table>\n",
       "</div>"
      ],
      "text/plain": [
       "time $t$         0    0.5\n",
       "node                     \n",
       "0         0.259464  0.695\n",
       "1              NaN -0.525"
      ]
     },
     "execution_count": 60,
     "metadata": {},
     "output_type": "execute_result"
    }
   ],
   "source": [
    "payoff = lambda r: (100/2)*(r-0.02)\n",
    "swap_tree = pd.DataFrame(index=rate_tree.index, columns=rate_tree.columns)\n",
    "swap_tree['0.5'] = payoff(rate_tree['0.5'])\n",
    "swap_tree.loc[0,'0'] = np.exp(-rate_tree.iloc[0,0] * 0.5) * np.array([pstar,1-pstar]) @ swap_tree['0.5'].values\n",
    "swap_tree"
   ]
  },
  {
   "cell_type": "markdown",
   "id": "0e57d389",
   "metadata": {},
   "source": [
    "# 2. Using the Swap as the Underlying\n",
    "As in the note, W.1, consider pricing the followign interest-rate option,\n",
    "* Payoff is $100\\max(r_K-r_1,0)$\n",
    "* strike is $r_K$ is 2\\%\n",
    "* expires at period 1, ($t=0.5$) \n",
    "\n",
    "Unlike the note, price it with the swap used as the underlying, not the two-period ($t=1$) bond. You will once again use the period-1 ($t=0.5$) bond as the cash account for the no-arbitrage pricing.\n",
    "\n",
    "So instead of replicating the option with the two treasuries, now you're replicating/pricing it with a one-period bond and two-period swap."
   ]
  },
  {
   "cell_type": "markdown",
   "id": "94802297",
   "metadata": {},
   "source": [
    "### 2.1\n",
    "Display the tree of swap prices."
   ]
  },
  {
   "cell_type": "code",
   "execution_count": 62,
   "id": "7e44e877",
   "metadata": {},
   "outputs": [
    {
     "data": {
      "text/html": [
       "<div>\n",
       "<style scoped>\n",
       "    .dataframe tbody tr th:only-of-type {\n",
       "        vertical-align: middle;\n",
       "    }\n",
       "\n",
       "    .dataframe tbody tr th {\n",
       "        vertical-align: top;\n",
       "    }\n",
       "\n",
       "    .dataframe thead th {\n",
       "        text-align: right;\n",
       "    }\n",
       "</style>\n",
       "<table border=\"1\" class=\"dataframe\">\n",
       "  <thead>\n",
       "    <tr style=\"text-align: right;\">\n",
       "      <th>time $t$</th>\n",
       "      <th>0</th>\n",
       "      <th>0.5</th>\n",
       "    </tr>\n",
       "    <tr>\n",
       "      <th>node</th>\n",
       "      <th></th>\n",
       "      <th></th>\n",
       "    </tr>\n",
       "  </thead>\n",
       "  <tbody>\n",
       "    <tr>\n",
       "      <th>0</th>\n",
       "      <td>0.259464</td>\n",
       "      <td>0.695</td>\n",
       "    </tr>\n",
       "    <tr>\n",
       "      <th>1</th>\n",
       "      <td>NaN</td>\n",
       "      <td>-0.525</td>\n",
       "    </tr>\n",
       "  </tbody>\n",
       "</table>\n",
       "</div>"
      ],
      "text/plain": [
       "time $t$         0    0.5\n",
       "node                     \n",
       "0         0.259464  0.695\n",
       "1              NaN -0.525"
      ]
     },
     "execution_count": 62,
     "metadata": {},
     "output_type": "execute_result"
    }
   ],
   "source": [
    "swap_tree"
   ]
  },
  {
   "cell_type": "markdown",
   "id": "1d7003d9",
   "metadata": {},
   "source": [
    "### 2.2\n",
    "What is the risk-neutral probability of an upward movement at $t=.5$ implied by the underlying swap tree? \n",
    "\n",
    "Is this the same as the risk-neutral probability we found when the bond was used as the underlying?"
   ]
  },
  {
   "cell_type": "code",
   "execution_count": 63,
   "id": "123a632a",
   "metadata": {},
   "outputs": [
    {
     "data": {
      "text/plain": [
       "0.6448615964742744"
      ]
     },
     "execution_count": 63,
     "metadata": {},
     "output_type": "execute_result"
    }
   ],
   "source": [
    "A = np.exp(rate_tree.iloc[0,0]*0.5)\n",
    "Z = swap_tree.loc[0,'0']\n",
    "D = swap_tree.loc[1,'0.5']\n",
    "U = swap_tree.loc[0,'0.5']\n",
    "\n",
    "pstar = (A*Z-D)/(U-D)\n",
    "pstar"
   ]
  },
  {
   "cell_type": "markdown",
   "id": "e99a2e24",
   "metadata": {},
   "source": [
    "We obtained the same risk-neutral probability using the swap tree as the underlying as the bond as the underlying"
   ]
  },
  {
   "cell_type": "markdown",
   "id": "f16e6e16",
   "metadata": {},
   "source": [
    "### 2.3\n",
    "What is the price of the rate option? Is it the same as we calculated in the note, W.1.?"
   ]
  },
  {
   "cell_type": "code",
   "execution_count": 65,
   "id": "923dcfb1",
   "metadata": {},
   "outputs": [
    {
     "data": {
      "text/html": [
       "<div>\n",
       "<style scoped>\n",
       "    .dataframe tbody tr th:only-of-type {\n",
       "        vertical-align: middle;\n",
       "    }\n",
       "\n",
       "    .dataframe tbody tr th {\n",
       "        vertical-align: top;\n",
       "    }\n",
       "\n",
       "    .dataframe thead th {\n",
       "        text-align: right;\n",
       "    }\n",
       "</style>\n",
       "<table border=\"1\" class=\"dataframe\">\n",
       "  <thead>\n",
       "    <tr style=\"text-align: right;\">\n",
       "      <th>time $t$</th>\n",
       "      <th>0</th>\n",
       "      <th>0.5</th>\n",
       "    </tr>\n",
       "    <tr>\n",
       "      <th>node</th>\n",
       "      <th></th>\n",
       "      <th></th>\n",
       "    </tr>\n",
       "  </thead>\n",
       "  <tbody>\n",
       "    <tr>\n",
       "      <th>0</th>\n",
       "      <td>0.369665</td>\n",
       "      <td>0.00</td>\n",
       "    </tr>\n",
       "    <tr>\n",
       "      <th>1</th>\n",
       "      <td>NaN</td>\n",
       "      <td>1.05</td>\n",
       "    </tr>\n",
       "  </tbody>\n",
       "</table>\n",
       "</div>"
      ],
      "text/plain": [
       "time $t$         0   0.5\n",
       "node                    \n",
       "0         0.369665  0.00\n",
       "1              NaN  1.05"
      ]
     },
     "execution_count": 65,
     "metadata": {},
     "output_type": "execute_result"
    }
   ],
   "source": [
    "payoff = lambda r: 100 * np.maximum(0.02 - r,0)\n",
    "\n",
    "floorlet_tree = pd.DataFrame(columns=rate_tree.columns, index=rate_tree.index)\n",
    "floorlet_tree['0.5'] = payoff(rate_tree['0.5'])\n",
    "floorlet_tree.loc[0,'0'] = np.exp(-rate_tree.iloc[0,0] * 0.5) * np.array([pstar, 1-pstar])@floorlet_tree['0.5']\n",
    "floorlet_tree"
   ]
  },
  {
   "cell_type": "markdown",
   "id": "83c4fbc5",
   "metadata": {},
   "source": [
    "The price of 0.369 mathces the rpice calcualted in W.1"
   ]
  },
  {
   "cell_type": "markdown",
   "id": "2360f491",
   "metadata": {},
   "source": [
    "# 3. Pricing a Call on a Bond\n",
    "\n",
    "Try using the same tree to price a call on the period-2 bond, (1-year), at period 1 (6-months).\n",
    "* Payoff = $\\max(P_{1|2}-K,0)$\n",
    "* Strike = \\$99.00"
   ]
  },
  {
   "cell_type": "markdown",
   "id": "99779170",
   "metadata": {},
   "source": [
    "### 3.1 \n",
    "What is the replicating trade using the two bonds (period 1 and period 2) as above? (That is, we are no longer using the swap as the underlying.)"
   ]
  },
  {
   "cell_type": "code",
   "execution_count": 83,
   "id": "8046715b",
   "metadata": {},
   "outputs": [
    {
     "data": {
      "text/plain": [
       "0.0    0.644862\n",
       "Name: pstar, dtype: float64"
      ]
     },
     "execution_count": 83,
     "metadata": {},
     "output_type": "execute_result"
    }
   ],
   "source": [
    "payoff2 = lambda p: np.maximum(p - 99,0)\n",
    "rate_tree.columns = [float(i) for i in rate_tree.columns]\n",
    "pstars = estimate_pstar(term_struct.loc[:rate_tree.index[-1],['price']],rate_tree)\n",
    "pstars"
   ]
  },
  {
   "cell_type": "code",
   "execution_count": 84,
   "id": "2ee36d16",
   "metadata": {},
   "outputs": [
    {
     "data": {
      "text/html": [
       "<div>\n",
       "<style scoped>\n",
       "    .dataframe tbody tr th:only-of-type {\n",
       "        vertical-align: middle;\n",
       "    }\n",
       "\n",
       "    .dataframe tbody tr th {\n",
       "        vertical-align: top;\n",
       "    }\n",
       "\n",
       "    .dataframe thead th {\n",
       "        text-align: right;\n",
       "    }\n",
       "</style>\n",
       "<table border=\"1\" class=\"dataframe\">\n",
       "  <thead>\n",
       "    <tr style=\"text-align: right;\">\n",
       "      <th></th>\n",
       "      <th>0.0</th>\n",
       "      <th>0.5</th>\n",
       "    </tr>\n",
       "    <tr>\n",
       "      <th>node</th>\n",
       "      <th></th>\n",
       "      <th></th>\n",
       "    </tr>\n",
       "  </thead>\n",
       "  <tbody>\n",
       "    <tr>\n",
       "      <th>0</th>\n",
       "      <td>0.185229</td>\n",
       "      <td>0.000000</td>\n",
       "    </tr>\n",
       "    <tr>\n",
       "      <th>1</th>\n",
       "      <td>NaN</td>\n",
       "      <td>0.526126</td>\n",
       "    </tr>\n",
       "  </tbody>\n",
       "</table>\n",
       "</div>"
      ],
      "text/plain": [
       "           0.0       0.5\n",
       "node                    \n",
       "0     0.185229  0.000000\n",
       "1          NaN  0.526126"
      ]
     },
     "execution_count": 84,
     "metadata": {},
     "output_type": "execute_result"
    }
   ],
   "source": [
    "bond_tree.columns = [float(i) for i in bond_tree.columns]\n",
    "derivtree = bintree_pricing(payoff2, rate_tree, undertree=bond_tree, pstars=pstars)\n",
    "derivtree"
   ]
  },
  {
   "cell_type": "code",
   "execution_count": 85,
   "id": "446469df",
   "metadata": {},
   "outputs": [
    {
     "data": {
      "text/html": [
       "<div>\n",
       "<style scoped>\n",
       "    .dataframe tbody tr th:only-of-type {\n",
       "        vertical-align: middle;\n",
       "    }\n",
       "\n",
       "    .dataframe tbody tr th {\n",
       "        vertical-align: top;\n",
       "    }\n",
       "\n",
       "    .dataframe thead th {\n",
       "        text-align: right;\n",
       "    }\n",
       "</style>\n",
       "<table border=\"1\" class=\"dataframe\">\n",
       "  <thead>\n",
       "    <tr style=\"text-align: right;\">\n",
       "      <th></th>\n",
       "      <th>positions</th>\n",
       "      <th>value</th>\n",
       "    </tr>\n",
       "  </thead>\n",
       "  <tbody>\n",
       "    <tr>\n",
       "      <th>cash</th>\n",
       "      <td>-0.428626</td>\n",
       "      <td>99.133800</td>\n",
       "    </tr>\n",
       "    <tr>\n",
       "      <th>under</th>\n",
       "      <td>0.435953</td>\n",
       "      <td>97.892500</td>\n",
       "    </tr>\n",
       "    <tr>\n",
       "      <th>derivative</th>\n",
       "      <td>NaN</td>\n",
       "      <td>0.185218</td>\n",
       "    </tr>\n",
       "  </tbody>\n",
       "</table>\n",
       "</div>"
      ],
      "text/plain": [
       "            positions      value\n",
       "cash        -0.428626  99.133800\n",
       "under        0.435953  97.892500\n",
       "derivative        NaN   0.185218"
      ]
     },
     "execution_count": 85,
     "metadata": {},
     "output_type": "execute_result"
    }
   ],
   "source": [
    "replicating_port(term_struct.loc[[.5,1],'price'].values, bond_tree, derivtree, dt=.5)"
   ]
  },
  {
   "cell_type": "markdown",
   "id": "0bb513ab",
   "metadata": {},
   "source": [
    "### 3.2 \n",
    "What is the price of the European call option? \n",
    "* expiring at $T=.5$ \n",
    "* written on the bond maturing in 2 periods, ($t=1$)"
   ]
  },
  {
   "cell_type": "code",
   "execution_count": 86,
   "id": "12c5419a",
   "metadata": {},
   "outputs": [
    {
     "data": {
      "text/plain": [
       "0.18522914483722105"
      ]
     },
     "execution_count": 86,
     "metadata": {},
     "output_type": "execute_result"
    }
   ],
   "source": [
    "derivtree.loc[0,0]"
   ]
  },
  {
   "cell_type": "markdown",
   "id": "4db6785c",
   "metadata": {},
   "source": [
    "# 4 Two-Period Tree\n",
    "\n",
    "Consider an expanded, **2 period** tree. (Two periods of uncertainty, so with the starting point, three periods total.)"
   ]
  },
  {
   "cell_type": "code",
   "execution_count": 61,
   "id": "484577f2",
   "metadata": {},
   "outputs": [
    {
     "data": {
      "text/html": [
       "<style type=\"text/css\">\n",
       "</style>\n",
       "<table id=\"T_0679a\">\n",
       "  <thead>\n",
       "    <tr>\n",
       "      <th class=\"index_name level0\" >time $t$</th>\n",
       "      <th id=\"T_0679a_level0_col0\" class=\"col_heading level0 col0\" >0</th>\n",
       "      <th id=\"T_0679a_level0_col1\" class=\"col_heading level0 col1\" >0.5</th>\n",
       "      <th id=\"T_0679a_level0_col2\" class=\"col_heading level0 col2\" >1</th>\n",
       "    </tr>\n",
       "    <tr>\n",
       "      <th class=\"index_name level0\" >node</th>\n",
       "      <th class=\"blank col0\" >&nbsp;</th>\n",
       "      <th class=\"blank col1\" >&nbsp;</th>\n",
       "      <th class=\"blank col2\" >&nbsp;</th>\n",
       "    </tr>\n",
       "  </thead>\n",
       "  <tbody>\n",
       "    <tr>\n",
       "      <th id=\"T_0679a_level0_row0\" class=\"row_heading level0 row0\" >0</th>\n",
       "      <td id=\"T_0679a_row0_col0\" class=\"data row0 col0\" >1.74%</td>\n",
       "      <td id=\"T_0679a_row0_col1\" class=\"data row0 col1\" >3.39%</td>\n",
       "      <td id=\"T_0679a_row0_col2\" class=\"data row0 col2\" >5.00%</td>\n",
       "    </tr>\n",
       "    <tr>\n",
       "      <th id=\"T_0679a_level0_row1\" class=\"row_heading level0 row1\" >1</th>\n",
       "      <td id=\"T_0679a_row1_col0\" class=\"data row1 col0\" ></td>\n",
       "      <td id=\"T_0679a_row1_col1\" class=\"data row1 col1\" >0.95%</td>\n",
       "      <td id=\"T_0679a_row1_col2\" class=\"data row1 col2\" >2.56%</td>\n",
       "    </tr>\n",
       "    <tr>\n",
       "      <th id=\"T_0679a_level0_row2\" class=\"row_heading level0 row2\" >2</th>\n",
       "      <td id=\"T_0679a_row2_col0\" class=\"data row2 col0\" ></td>\n",
       "      <td id=\"T_0679a_row2_col1\" class=\"data row2 col1\" ></td>\n",
       "      <td id=\"T_0679a_row2_col2\" class=\"data row2 col2\" >0.11%</td>\n",
       "    </tr>\n",
       "  </tbody>\n",
       "</table>\n"
      ],
      "text/plain": [
       "<pandas.io.formats.style.Styler at 0x1bd31b5ccd0>"
      ]
     },
     "execution_count": 61,
     "metadata": {},
     "output_type": "execute_result"
    }
   ],
   "source": [
    "new_col = pd.Series([.05,.0256,.0011],name='1')\n",
    "rate_tree_multi = pd.concat([rate_tree,new_col],ignore_index=True,axis=1)\n",
    "rate_tree_multi.columns = pd.Series(['0','0.5','1'],name='time $t$')\n",
    "rate_tree_multi.index.name = 'node'\n",
    "rate_tree_multi.style.format('{:.2%}',na_rep='')"
   ]
  },
  {
   "cell_type": "markdown",
   "id": "7e454eb1",
   "metadata": {},
   "source": [
    "### 4.1\n",
    "\n",
    "Calculate and show the tree of prices for the 3-period bond, $T=1.5$."
   ]
  },
  {
   "cell_type": "code",
   "execution_count": 90,
   "id": "3e7af120",
   "metadata": {},
   "outputs": [
    {
     "ename": "TypeError",
     "evalue": "unsupported operand type(s) for -: 'str' and 'str'",
     "output_type": "error",
     "traceback": [
      "\u001b[1;31m---------------------------------------------------------------------------\u001b[0m",
      "\u001b[1;31mTypeError\u001b[0m                                 Traceback (most recent call last)",
      "Cell \u001b[1;32mIn[90], line 2\u001b[0m\n\u001b[0;32m      1\u001b[0m payoff3 \u001b[38;5;241m=\u001b[39m \u001b[38;5;28;01mlambda\u001b[39;00m r: payoff_bond(r, \u001b[38;5;241m0.5\u001b[39m)\n\u001b[1;32m----> 2\u001b[0m pstars \u001b[38;5;241m=\u001b[39m \u001b[43mestimate_pstar\u001b[49m\u001b[43m(\u001b[49m\u001b[43mterm_struct\u001b[49m\u001b[43m,\u001b[49m\u001b[43mrate_tree_multi\u001b[49m\u001b[43m)\u001b[49m\n",
      "File \u001b[1;32mc:\\Users\\alexa\\OneDrive - The University of Chicago\\FINM_37500\\FINM_37500_Assignments\\homework\\../cmds\\binomial.py:182\u001b[0m, in \u001b[0;36mestimate_pstar\u001b[1;34m(quotes, ratetree, style)\u001b[0m\n\u001b[0;32m    179\u001b[0m     pstars_solved \u001b[38;5;241m=\u001b[39m pstars\u001b[38;5;241m.\u001b[39mloc[:t_prev]\u001b[38;5;241m.\u001b[39miloc[:\u001b[38;5;241m-\u001b[39m\u001b[38;5;241m1\u001b[39m]\n\u001b[0;32m    180\u001b[0m     wrapper_fun \u001b[38;5;241m=\u001b[39m \u001b[38;5;28;01mlambda\u001b[39;00m p: bond_price_error(quotes[\u001b[38;5;124m'\u001b[39m\u001b[38;5;124mprice\u001b[39m\u001b[38;5;124m'\u001b[39m]\u001b[38;5;241m.\u001b[39miloc[steps_forward\u001b[38;5;241m+\u001b[39m\u001b[38;5;241m1\u001b[39m], pd\u001b[38;5;241m.\u001b[39mconcat([pstars_solved, pd\u001b[38;5;241m.\u001b[39mSeries(p,index\u001b[38;5;241m=\u001b[39m[t_prev])]), ratetreeT, style\u001b[38;5;241m=\u001b[39mstyle)\n\u001b[1;32m--> 182\u001b[0m     pstars[t_prev] \u001b[38;5;241m=\u001b[39m \u001b[43mfsolve\u001b[49m\u001b[43m(\u001b[49m\u001b[43mwrapper_fun\u001b[49m\u001b[43m,\u001b[49m\u001b[43mp0\u001b[49m\u001b[43m)\u001b[49m[\u001b[38;5;241m0\u001b[39m]\n\u001b[0;32m    184\u001b[0m \u001b[38;5;28;01mreturn\u001b[39;00m pstars\n",
      "File \u001b[1;32m~\\AppData\\Local\\Packages\\PythonSoftwareFoundation.Python.3.11_qbz5n2kfra8p0\\LocalCache\\local-packages\\Python311\\site-packages\\scipy\\optimize\\_minpack_py.py:162\u001b[0m, in \u001b[0;36mfsolve\u001b[1;34m(func, x0, args, fprime, full_output, col_deriv, xtol, maxfev, band, epsfcn, factor, diag)\u001b[0m\n\u001b[0;32m     50\u001b[0m \u001b[38;5;250m\u001b[39m\u001b[38;5;124;03m\"\"\"\u001b[39;00m\n\u001b[0;32m     51\u001b[0m \u001b[38;5;124;03mFind the roots of a function.\u001b[39;00m\n\u001b[0;32m     52\u001b[0m \n\u001b[1;32m   (...)\u001b[0m\n\u001b[0;32m    152\u001b[0m \n\u001b[0;32m    153\u001b[0m \u001b[38;5;124;03m\"\"\"\u001b[39;00m\n\u001b[0;32m    154\u001b[0m options \u001b[38;5;241m=\u001b[39m {\u001b[38;5;124m'\u001b[39m\u001b[38;5;124mcol_deriv\u001b[39m\u001b[38;5;124m'\u001b[39m: col_deriv,\n\u001b[0;32m    155\u001b[0m            \u001b[38;5;124m'\u001b[39m\u001b[38;5;124mxtol\u001b[39m\u001b[38;5;124m'\u001b[39m: xtol,\n\u001b[0;32m    156\u001b[0m            \u001b[38;5;124m'\u001b[39m\u001b[38;5;124mmaxfev\u001b[39m\u001b[38;5;124m'\u001b[39m: maxfev,\n\u001b[1;32m   (...)\u001b[0m\n\u001b[0;32m    159\u001b[0m            \u001b[38;5;124m'\u001b[39m\u001b[38;5;124mfactor\u001b[39m\u001b[38;5;124m'\u001b[39m: factor,\n\u001b[0;32m    160\u001b[0m            \u001b[38;5;124m'\u001b[39m\u001b[38;5;124mdiag\u001b[39m\u001b[38;5;124m'\u001b[39m: diag}\n\u001b[1;32m--> 162\u001b[0m res \u001b[38;5;241m=\u001b[39m \u001b[43m_root_hybr\u001b[49m\u001b[43m(\u001b[49m\u001b[43mfunc\u001b[49m\u001b[43m,\u001b[49m\u001b[43m \u001b[49m\u001b[43mx0\u001b[49m\u001b[43m,\u001b[49m\u001b[43m \u001b[49m\u001b[43margs\u001b[49m\u001b[43m,\u001b[49m\u001b[43m \u001b[49m\u001b[43mjac\u001b[49m\u001b[38;5;241;43m=\u001b[39;49m\u001b[43mfprime\u001b[49m\u001b[43m,\u001b[49m\u001b[43m \u001b[49m\u001b[38;5;241;43m*\u001b[39;49m\u001b[38;5;241;43m*\u001b[39;49m\u001b[43moptions\u001b[49m\u001b[43m)\u001b[49m\n\u001b[0;32m    163\u001b[0m \u001b[38;5;28;01mif\u001b[39;00m full_output:\n\u001b[0;32m    164\u001b[0m     x \u001b[38;5;241m=\u001b[39m res[\u001b[38;5;124m'\u001b[39m\u001b[38;5;124mx\u001b[39m\u001b[38;5;124m'\u001b[39m]\n",
      "File \u001b[1;32m~\\AppData\\Local\\Packages\\PythonSoftwareFoundation.Python.3.11_qbz5n2kfra8p0\\LocalCache\\local-packages\\Python311\\site-packages\\scipy\\optimize\\_minpack_py.py:228\u001b[0m, in \u001b[0;36m_root_hybr\u001b[1;34m(func, x0, args, jac, col_deriv, xtol, maxfev, band, eps, factor, diag, **unknown_options)\u001b[0m\n\u001b[0;32m    226\u001b[0m \u001b[38;5;28;01mif\u001b[39;00m \u001b[38;5;129;01mnot\u001b[39;00m \u001b[38;5;28misinstance\u001b[39m(args, \u001b[38;5;28mtuple\u001b[39m):\n\u001b[0;32m    227\u001b[0m     args \u001b[38;5;241m=\u001b[39m (args,)\n\u001b[1;32m--> 228\u001b[0m shape, dtype \u001b[38;5;241m=\u001b[39m \u001b[43m_check_func\u001b[49m\u001b[43m(\u001b[49m\u001b[38;5;124;43m'\u001b[39;49m\u001b[38;5;124;43mfsolve\u001b[39;49m\u001b[38;5;124;43m'\u001b[39;49m\u001b[43m,\u001b[49m\u001b[43m \u001b[49m\u001b[38;5;124;43m'\u001b[39;49m\u001b[38;5;124;43mfunc\u001b[39;49m\u001b[38;5;124;43m'\u001b[39;49m\u001b[43m,\u001b[49m\u001b[43m \u001b[49m\u001b[43mfunc\u001b[49m\u001b[43m,\u001b[49m\u001b[43m \u001b[49m\u001b[43mx0\u001b[49m\u001b[43m,\u001b[49m\u001b[43m \u001b[49m\u001b[43margs\u001b[49m\u001b[43m,\u001b[49m\u001b[43m \u001b[49m\u001b[43mn\u001b[49m\u001b[43m,\u001b[49m\u001b[43m \u001b[49m\u001b[43m(\u001b[49m\u001b[43mn\u001b[49m\u001b[43m,\u001b[49m\u001b[43m)\u001b[49m\u001b[43m)\u001b[49m\n\u001b[0;32m    229\u001b[0m \u001b[38;5;28;01mif\u001b[39;00m epsfcn \u001b[38;5;129;01mis\u001b[39;00m \u001b[38;5;28;01mNone\u001b[39;00m:\n\u001b[0;32m    230\u001b[0m     epsfcn \u001b[38;5;241m=\u001b[39m finfo(dtype)\u001b[38;5;241m.\u001b[39meps\n",
      "File \u001b[1;32m~\\AppData\\Local\\Packages\\PythonSoftwareFoundation.Python.3.11_qbz5n2kfra8p0\\LocalCache\\local-packages\\Python311\\site-packages\\scipy\\optimize\\_minpack_py.py:25\u001b[0m, in \u001b[0;36m_check_func\u001b[1;34m(checker, argname, thefunc, x0, args, numinputs, output_shape)\u001b[0m\n\u001b[0;32m     23\u001b[0m \u001b[38;5;28;01mdef\u001b[39;00m \u001b[38;5;21m_check_func\u001b[39m(checker, argname, thefunc, x0, args, numinputs,\n\u001b[0;32m     24\u001b[0m                 output_shape\u001b[38;5;241m=\u001b[39m\u001b[38;5;28;01mNone\u001b[39;00m):\n\u001b[1;32m---> 25\u001b[0m     res \u001b[38;5;241m=\u001b[39m atleast_1d(\u001b[43mthefunc\u001b[49m\u001b[43m(\u001b[49m\u001b[38;5;241;43m*\u001b[39;49m\u001b[43m(\u001b[49m\u001b[43m(\u001b[49m\u001b[43mx0\u001b[49m\u001b[43m[\u001b[49m\u001b[43m:\u001b[49m\u001b[43mnuminputs\u001b[49m\u001b[43m]\u001b[49m\u001b[43m,\u001b[49m\u001b[43m)\u001b[49m\u001b[43m \u001b[49m\u001b[38;5;241;43m+\u001b[39;49m\u001b[43m \u001b[49m\u001b[43margs\u001b[49m\u001b[43m)\u001b[49m\u001b[43m)\u001b[49m)\n\u001b[0;32m     26\u001b[0m     \u001b[38;5;28;01mif\u001b[39;00m (output_shape \u001b[38;5;129;01mis\u001b[39;00m \u001b[38;5;129;01mnot\u001b[39;00m \u001b[38;5;28;01mNone\u001b[39;00m) \u001b[38;5;129;01mand\u001b[39;00m (shape(res) \u001b[38;5;241m!=\u001b[39m output_shape):\n\u001b[0;32m     27\u001b[0m         \u001b[38;5;28;01mif\u001b[39;00m (output_shape[\u001b[38;5;241m0\u001b[39m] \u001b[38;5;241m!=\u001b[39m \u001b[38;5;241m1\u001b[39m):\n",
      "File \u001b[1;32mc:\\Users\\alexa\\OneDrive - The University of Chicago\\FINM_37500\\FINM_37500_Assignments\\homework\\../cmds\\binomial.py:180\u001b[0m, in \u001b[0;36mestimate_pstar.<locals>.<lambda>\u001b[1;34m(p)\u001b[0m\n\u001b[0;32m    177\u001b[0m     t_prev \u001b[38;5;241m=\u001b[39m ratetreeT\u001b[38;5;241m.\u001b[39mcolumns[steps_forward]\n\u001b[0;32m    179\u001b[0m     pstars_solved \u001b[38;5;241m=\u001b[39m pstars\u001b[38;5;241m.\u001b[39mloc[:t_prev]\u001b[38;5;241m.\u001b[39miloc[:\u001b[38;5;241m-\u001b[39m\u001b[38;5;241m1\u001b[39m]\n\u001b[1;32m--> 180\u001b[0m     wrapper_fun \u001b[38;5;241m=\u001b[39m \u001b[38;5;28;01mlambda\u001b[39;00m p: \u001b[43mbond_price_error\u001b[49m\u001b[43m(\u001b[49m\u001b[43mquotes\u001b[49m\u001b[43m[\u001b[49m\u001b[38;5;124;43m'\u001b[39;49m\u001b[38;5;124;43mprice\u001b[39;49m\u001b[38;5;124;43m'\u001b[39;49m\u001b[43m]\u001b[49m\u001b[38;5;241;43m.\u001b[39;49m\u001b[43miloc\u001b[49m\u001b[43m[\u001b[49m\u001b[43msteps_forward\u001b[49m\u001b[38;5;241;43m+\u001b[39;49m\u001b[38;5;241;43m1\u001b[39;49m\u001b[43m]\u001b[49m\u001b[43m,\u001b[49m\u001b[43m \u001b[49m\u001b[43mpd\u001b[49m\u001b[38;5;241;43m.\u001b[39;49m\u001b[43mconcat\u001b[49m\u001b[43m(\u001b[49m\u001b[43m[\u001b[49m\u001b[43mpstars_solved\u001b[49m\u001b[43m,\u001b[49m\u001b[43m \u001b[49m\u001b[43mpd\u001b[49m\u001b[38;5;241;43m.\u001b[39;49m\u001b[43mSeries\u001b[49m\u001b[43m(\u001b[49m\u001b[43mp\u001b[49m\u001b[43m,\u001b[49m\u001b[43mindex\u001b[49m\u001b[38;5;241;43m=\u001b[39;49m\u001b[43m[\u001b[49m\u001b[43mt_prev\u001b[49m\u001b[43m]\u001b[49m\u001b[43m)\u001b[49m\u001b[43m]\u001b[49m\u001b[43m)\u001b[49m\u001b[43m,\u001b[49m\u001b[43m \u001b[49m\u001b[43mratetreeT\u001b[49m\u001b[43m,\u001b[49m\u001b[43m \u001b[49m\u001b[43mstyle\u001b[49m\u001b[38;5;241;43m=\u001b[39;49m\u001b[43mstyle\u001b[49m\u001b[43m)\u001b[49m\n\u001b[0;32m    182\u001b[0m     pstars[t_prev] \u001b[38;5;241m=\u001b[39m fsolve(wrapper_fun,p0)[\u001b[38;5;241m0\u001b[39m]\n\u001b[0;32m    184\u001b[0m \u001b[38;5;28;01mreturn\u001b[39;00m pstars\n",
      "File \u001b[1;32mc:\\Users\\alexa\\OneDrive - The University of Chicago\\FINM_37500\\FINM_37500_Assignments\\homework\\../cmds\\binomial.py:156\u001b[0m, in \u001b[0;36mbond_price_error\u001b[1;34m(quote, pstars, ratetree, style)\u001b[0m\n\u001b[0;32m    154\u001b[0m \u001b[38;5;28;01mdef\u001b[39;00m \u001b[38;5;21mbond_price_error\u001b[39m(quote, pstars, ratetree, style\u001b[38;5;241m=\u001b[39m\u001b[38;5;124m'\u001b[39m\u001b[38;5;124meuropean\u001b[39m\u001b[38;5;124m'\u001b[39m):\n\u001b[0;32m    155\u001b[0m     FACEVALUE \u001b[38;5;241m=\u001b[39m \u001b[38;5;241m100\u001b[39m\n\u001b[1;32m--> 156\u001b[0m     dt \u001b[38;5;241m=\u001b[39m \u001b[43mratetree\u001b[49m\u001b[38;5;241;43m.\u001b[39;49m\u001b[43mcolumns\u001b[49m\u001b[43m[\u001b[49m\u001b[38;5;241;43m1\u001b[39;49m\u001b[43m]\u001b[49m\u001b[43m \u001b[49m\u001b[38;5;241;43m-\u001b[39;49m\u001b[43m \u001b[49m\u001b[43mratetree\u001b[49m\u001b[38;5;241;43m.\u001b[39;49m\u001b[43mcolumns\u001b[49m\u001b[43m[\u001b[49m\u001b[38;5;241;43m0\u001b[39;49m\u001b[43m]\u001b[49m    \n\u001b[0;32m    157\u001b[0m     payoff \u001b[38;5;241m=\u001b[39m \u001b[38;5;28;01mlambda\u001b[39;00m r: payoff_bond(r,dt)\n\u001b[0;32m    158\u001b[0m     modelprice \u001b[38;5;241m=\u001b[39m bintree_pricing(payoff, ratetree, pstars\u001b[38;5;241m=\u001b[39mpstars, style\u001b[38;5;241m=\u001b[39mstyle)\u001b[38;5;241m.\u001b[39mloc[\u001b[38;5;241m0\u001b[39m,\u001b[38;5;241m0\u001b[39m]\n",
      "\u001b[1;31mTypeError\u001b[0m: unsupported operand type(s) for -: 'str' and 'str'"
     ]
    }
   ],
   "source": [
    "payoff3 = lambda r: payoff_bond(r, 0.5)\n",
    "pstars = estimate_pstar(term_struct,rate_tree_multi)"
   ]
  },
  {
   "cell_type": "markdown",
   "id": "8a5514c9",
   "metadata": {},
   "source": [
    "### 4.2\n",
    "Report the risk-neutral probability of an up movement at $t=1$.\n",
    "\n",
    "The risk-neutral probability of an up movement at $t=0.5$ continues to be as you calculated in 2.3."
   ]
  },
  {
   "cell_type": "markdown",
   "id": "aabb70ee",
   "metadata": {},
   "source": [
    "### 4.3\n",
    "Calculate the price of the European **call** option?\n",
    "* expiring at $T=1$ \n",
    "* written on the bond maturing in 3 periods, ($t=1.5$)"
   ]
  },
  {
   "cell_type": "markdown",
   "id": "3cbbe2d6",
   "metadata": {},
   "source": [
    "### 4.4\n",
    "Consider a finer time grid. Let $dt$ in the tree now be 1/30 instead of 0.5.\n",
    "\n",
    "Using this smaller time step, compute the $t=0$ price of the following option:\n",
    "* option expires at $t=1$\n",
    "* written on bond maturing at $t=1.5"
   ]
  },
  {
   "cell_type": "markdown",
   "id": "46eccfaf",
   "metadata": {},
   "source": [
    "# 5 American Style\n",
    "### 5.1\n",
    "Use the two-period tree from part 4, but this time to price an American-style **put** option.\n",
    "\n",
    "Use a grid of $dt=.5$.\n",
    "* What is its value at $t=0$?\n",
    "* Which nodes would you exercise it early?\n",
    "\n",
    "### 5.2\n",
    "Change the grid to $dt=1/30$, as in 4.4. \n",
    "* What is its value at $t=0$?\n",
    "* Make a visualization showing which nodes have early exercise. (I suggest using a dataframe and the `heatmap` from `seaborn`."
   ]
  }
 ],
 "metadata": {
  "hide_input": true,
  "kernelspec": {
   "display_name": "Python 3 (ipykernel)",
   "language": "python",
   "name": "python3"
  },
  "language_info": {
   "codemirror_mode": {
    "name": "ipython",
    "version": 3
   },
   "file_extension": ".py",
   "mimetype": "text/x-python",
   "name": "python",
   "nbconvert_exporter": "python",
   "pygments_lexer": "ipython3",
   "version": "3.11.8"
  }
 },
 "nbformat": 4,
 "nbformat_minor": 5
}
